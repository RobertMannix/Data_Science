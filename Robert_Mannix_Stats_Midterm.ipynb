{
  "cells": [
    {
      "cell_type": "markdown",
      "metadata": {
        "id": "view-in-github",
        "colab_type": "text"
      },
      "source": [
        "<a href=\"https://colab.research.google.com/github/RobertMannix/Data_Science/blob/main/Robert_Mannix_Stats_Midterm.ipynb\" target=\"_parent\"><img src=\"https://colab.research.google.com/assets/colab-badge.svg\" alt=\"Open In Colab\"/></a>"
      ]
    },
    {
      "cell_type": "markdown",
      "metadata": {
        "id": "WyqM99KnfwFM"
      },
      "source": [
        "# STA 2023 Midterm Project\n",
        "\n",
        "Directions:\n",
        "\n",
        "*   Use any and all resources available to you\n",
        "*   Comment and explain the code\n",
        "*   Answer the questions to the best of your abilities\n",
        "*   There are no points for pain: ask for help\n",
        "\n",
        "Save this notebook to your GitHub and submit the link."
      ]
    },
    {
      "cell_type": "code",
      "execution_count": null,
      "metadata": {
        "id": "ZE7xzRUigBYy"
      },
      "outputs": [],
      "source": [
        "import numpy as np\n",
        "import matplotlib.pyplot as plt"
      ]
    },
    {
      "cell_type": "markdown",
      "metadata": {
        "id": "tkn5UxLMg4GS"
      },
      "source": [
        "## Part 1: Getting your data\n",
        "\n",
        "Create a google form to input your data.\n",
        "Follow the same method as [Lab 5](https://colab.research.google.com/drive/1zYvyhrz2wVnJXlZqj_PpxOxplfS3LN9Y?usp=sharing)."
      ]
    },
    {
      "cell_type": "code",
      "execution_count": null,
      "metadata": {
        "id": "B0XQVmQIgdrp"
      },
      "outputs": [],
      "source": [
        "import pandas as pd\n",
        "def get_database(url): # This function loads the google spreadsheet\n",
        "    url_head = \"https://docs.google.com/spreadsheets/d/\"\n",
        "    url_foot = \"/gviz/tq?tqx=out:csv&sheet=\"\n",
        "    url_body = url.split('/')[5]\n",
        "    sheet_name = \"1\"\n",
        "    url_csv = url_head + url_body + url_foot + sheet_name\n",
        "    df = pd.read_csv(url_csv, sep=',', skiprows=0)\n",
        "    return df"
      ]
    },
    {
      "cell_type": "markdown",
      "metadata": {
        "id": "e3G1Q_8rjlLI"
      },
      "source": [
        "Put your form url here:"
      ]
    },
    {
      "cell_type": "code",
      "execution_count": 12,
      "metadata": {
        "id": "PfAztwghjql2"
      },
      "outputs": [],
      "source": [
        "url = 'https://docs.google.com/spreadsheets/d/13R2DLBZxC0eqzftW1AOp_Y4ibGzQuRJbHQToA4mlvZU/edit?usp=sharing' #my google form with the data of my observations on the numerous cirles I found"
      ]
    },
    {
      "cell_type": "code",
      "source": [
        "data = get_database(url) #this code retreives the data of the observations from my form; both the diameter and circumference"
      ],
      "metadata": {
        "id": "fkkhszHWmpVO"
      },
      "execution_count": null,
      "outputs": []
    },
    {
      "cell_type": "markdown",
      "metadata": {
        "id": "INpIcEh1mUKn"
      },
      "source": [
        "Plot your data points"
      ]
    },
    {
      "cell_type": "code",
      "execution_count": null,
      "metadata": {
        "id": "owBEvEOCh4-u"
      },
      "outputs": [],
      "source": [
        "diameter = np.array([8,14,4,18,7]) # diamteter and circumference of the circles I observed\n",
        "circumference = np.array([28,43,13,57,22])"
      ]
    },
    {
      "cell_type": "code",
      "execution_count": null,
      "metadata": {
        "colab": {
          "base_uri": "https://localhost:8080/",
          "height": 295
        },
        "id": "uoX4t7tIj8id",
        "outputId": "2e2ba167-c9af-4008-9f00-0b360c8caf0e"
      },
      "outputs": [
        {
          "output_type": "display_data",
          "data": {
            "text/plain": [
              "<Figure size 432x288 with 1 Axes>"
            ],
            "image/png": "[encoded data removed]"
          },
          "metadata": {
            "needs_background": "light"
          }
        }
      ],
      "source": [
        "plt.title(\"Circle Diameter vs Circumference\") # plotting the data of my observations, diameter on the x-axis, circumfernce on the y-axis\n",
        "\n",
        "plt.xlabel('diameter')\n",
        "plt.ylabel('circumference')\n",
        "\n",
        "plt.plot(diameter,circumference,'.');"
      ]
    },
    {
      "cell_type": "markdown",
      "metadata": {
        "id": "IhT_tn8ym8N8"
      },
      "source": [
        "## Part 2: Linear Fit\n",
        "\n",
        "Follow the steps in the [Linear Fit notebook]() to run a linear fit on your data."
      ]
    },
    {
      "cell_type": "code",
      "execution_count": null,
      "metadata": {
        "id": "VrOKaUZ2lwBh"
      },
      "outputs": [],
      "source": [
        "x = diameter \n",
        "y = circumference"
      ]
    },
    {
      "cell_type": "code",
      "execution_count": null,
      "metadata": {
        "id": "BjmND_ennTjR"
      },
      "outputs": [],
      "source": [
        "best_loss = 1000000000\n",
        "best_m = 0\n",
        "best_b = 0 \n",
        "\n",
        "for m_guess in np.linspace(-100,100,100): #guess from -100 to 100 with 100 guesses in between.\n",
        "    for b_guess in np.linspace(-100,100,100):\n",
        "        \n",
        "        y_guess = m_guess * x + b_guess #the best guess set in y = mx+b\n",
        "\n",
        "        loss = np.sum((y_guess - y)**2)\n",
        "\n",
        "        if loss < best_loss:\n",
        "            \n",
        "            best_loss = loss\n",
        "            best_m = m_guess\n",
        "            best_b = b_guess "
      ]
    },
    {
      "cell_type": "code",
      "execution_count": null,
      "metadata": {
        "colab": {
          "base_uri": "https://localhost:8080/",
          "height": 283
        },
        "id": "_8yRmrZxnTUS",
        "outputId": "11774591-8aac-4918-c1c5-df501e0709db"
      },
      "outputs": [
        {
          "output_type": "display_data",
          "data": {
            "text/plain": [
              "<Figure size 432x288 with 1 Axes>"
            ],
            "image/png": "[encoded data removed]"
          },
          "metadata": {
            "needs_background": "light"
          }
        },
        {
          "output_type": "stream",
          "name": "stdout",
          "text": [
            "9.890317314559667 3.030303030303031 1.0101010101010104\n"
          ]
        }
      ],
      "source": [
        "y_guess = best_m * x + best_b # a line that is the best y and x guess for a line of best fit \n",
        "\n",
        "plt.plot(x,y_guess,'r'); #line of best fit fo the data is red solid line \n",
        "plt.plot(diameter,circumference,'b.'); # the data of my observations\n",
        "plt.show()\n",
        "\n",
        "print(best_loss,best_m,best_b) "
      ]
    },
    {
      "cell_type": "markdown",
      "metadata": {
        "id": "I0KofkS9p7hu"
      },
      "source": [
        "Plot the line of best fit:\n",
        "\n",
        "Use blue dots for the collected data and a red line for the estimate."
      ]
    },
    {
      "cell_type": "code",
      "execution_count": 16,
      "metadata": {
        "colab": {
          "base_uri": "https://localhost:8080/",
          "height": 313
        },
        "id": "TSocDB3MpcHG",
        "outputId": "8a1f46cc-1c02-43fb-b533-1fca12b6e0ec"
      },
      "outputs": [
        {
          "output_type": "display_data",
          "data": {
            "text/plain": [
              "<Figure size 432x288 with 1 Axes>"
            ],
            "image/png": "[encoded data removed]"
          },
          "metadata": {
            "needs_background": "light"
          }
        },
        {
          "output_type": "stream",
          "name": "stdout",
          "text": [
            "9.890317314559667 3.030303030303031 1.0101010101010104\n"
          ]
        }
      ],
      "source": [
        "plt.title('Linear Fit of Circles') #labeled the graph as well as the x and y axis\n",
        "\n",
        "plt.xlabel('Diameter')\n",
        "plt.ylabel('Circumference')\n",
        "\n",
        "y_guess = best_m * x + best_b\n",
        "\n",
        "plt.plot(x,y_guess,'r');\n",
        "plt.plot(diameter,circumference,'b.');\n",
        "plt.show()\n",
        "\n",
        "print(best_loss,best_m,best_b)\n",
        "\n"
      ]
    },
    {
      "cell_type": "markdown",
      "metadata": {
        "id": "4zCAPG3upXN9"
      },
      "source": [
        "The relationship is:\n",
        "\n",
        "C = pi x D"
      ]
    },
    {
      "cell_type": "markdown",
      "metadata": {
        "id": "7FBlUtdwt_hd"
      },
      "source": [
        "## Part 3: Interpretation\n",
        "\n",
        "Answer the questions in text cells"
      ]
    },
    {
      "cell_type": "markdown",
      "metadata": {
        "id": "9xIvwJhOuGDh"
      },
      "source": [
        "#### Question 1:\n",
        "\n",
        "What do $m$ and $b$ represent in these equations?"
      ]
    },
    {
      "cell_type": "markdown",
      "metadata": {
        "id": "OC_Ja53Yugfn"
      },
      "source": [
        "m is the slope of the line of best fit, b is where the line of best fit intercepts the y-axis."
      ]
    },
    {
      "cell_type": "markdown",
      "metadata": {
        "id": "_7xl4z8kubLo"
      },
      "source": [
        "#### Question 2:\n",
        "\n",
        "Guess what the correct values $m$ and $b$ should be."
      ]
    },
    {
      "cell_type": "markdown",
      "metadata": {
        "id": "Te_52DvOuhZ-"
      },
      "source": [
        "m is pi and b should be the origin\n"
      ]
    },
    {
      "cell_type": "markdown",
      "metadata": {
        "id": "2yrRt2wMubSC"
      },
      "source": [
        "#### Question 3:\n",
        "\n",
        "Does it make sense to include $b$ in the parameters?"
      ]
    },
    {
      "cell_type": "markdown",
      "metadata": {
        "id": "F0gbHr8_uiWi"
      },
      "source": [
        "While b is not relevant to the equation c = pi x d, varying y- values would cause different b values(y intercepts).\n"
      ]
    }
  ],
  "metadata": {
    "colab": {
      "collapsed_sections": [],
      "provenance": [],
      "include_colab_link": true
    },
    "kernelspec": {
      "display_name": "Python 3",
      "name": "python3"
    },
    "language_info": {
      "name": "python"
    }
  },
  "nbformat": 4,
  "nbformat_minor": 0
}